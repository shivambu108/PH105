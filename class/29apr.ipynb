{
 "cells": [
  {
   "cell_type": "code",
   "execution_count": 1,
   "metadata": {},
   "outputs": [
    {
     "name": "stdout",
     "output_type": "stream",
     "text": [
      "h\n"
     ]
    }
   ],
   "source": [
    "import random \n",
    "\n",
    "str= \"alpha\"\n",
    "print(random.choice(str))"
   ]
  },
  {
   "cell_type": "code",
   "execution_count": 2,
   "metadata": {},
   "outputs": [
    {
     "name": "stdout",
     "output_type": "stream",
     "text": [
      "7\n"
     ]
    }
   ],
   "source": [
    "import random \n",
    "\n",
    "numA = [1,2,3,4,5,6,7]\n",
    "print (random.choice(numA))"
   ]
  },
  {
   "cell_type": "code",
   "execution_count": 5,
   "metadata": {},
   "outputs": [
    {
     "data": {
      "image/png": "[encoded data removed]",
      "text/plain": [
       "<Figure size 640x480 with 1 Axes>"
      ]
     },
     "metadata": {},
     "output_type": "display_data"
    }
   ],
   "source": [
    "import random\n",
    "import matplotlib.pyplot as plt\n",
    "for _ in range(0,100):\n",
    "    x= (random.randrange(0,10,1))\n",
    "    y= (random.randrange(0,10,1))\n",
    "    plt.plot(x,y)\n",
    "\n",
    "plt.scatter(x, y, color='red', marker='x')\n",
    "plt.title('Rand graph')\n",
    "plt.xlabel('X')\n",
    "plt.ylabel('Y')\n",
    "plt.grid(True)\n",
    "plt.show()  \n",
    "\n"
   ]
  },
  {
   "cell_type": "code",
   "execution_count": null,
   "metadata": {},
   "outputs": [],
   "source": [
    "import random \n",
    "import numpy as np \n",
    "\n",
    "seed  = 5155\n",
    "number = 10000\n",
    "random.seed(seed)\n",
    "radius = 1\n",
    "count = 0\n",
    "\n",
    "Area_outer_quarter = 1\n",
    "x0 = 0;y0 = 0\n",
    "xmax = 1 ,; ymax =1\n",
    "x = np.random.uniform(x0,xmax, number)\n",
    "y = np.random.uniform(y0,ymax, number)\n",
    "\n",
    "plt.figure()\n",
    "\n",
    "for j in range(np.arange(1,number)) :\n",
    "    point= (x[j],y[j])\n",
    "    rand_radius = np.sqrt(x[j]*x[j]+ y[j*y[j]])\n",
    "    print(j,point , rand_radius)\n",
    "\n",
    "    if(rand_radius<=1):\n",
    "        count +=1\n",
    "        plt.plot(x[j],y[j],'r*')\n",
    "    else: \n",
    "        plt.plot(x[j],y[j],'b*')\n",
    "        \n",
    "    \n",
    "\n",
    "\n",
    "\n",
    "    \n",
    "\n",
    "\n",
    "\n"
   ]
  }
 ],
 "metadata": {
  "kernelspec": {
   "display_name": "Python 3",
   "language": "python",
   "name": "python3"
  },
  "language_info": {
   "codemirror_mode": {
    "name": "ipython",
    "version": 3
   },
   "file_extension": ".py",
   "mimetype": "text/x-python",
   "name": "python",
   "nbconvert_exporter": "python",
   "pygments_lexer": "ipython3",
   "version": "3.11.4"
  }
 },
 "nbformat": 4,
 "nbformat_minor": 2
}
