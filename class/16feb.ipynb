{
 "cells": [
  {
   "cell_type": "code",
   "execution_count": 38,
   "metadata": {},
   "outputs": [
    {
     "name": "stdout",
     "output_type": "stream",
     "text": [
      "1307674368000\n",
      "2.7182818284590455\n",
      "3269017.3724721107\n"
     ]
    }
   ],
   "source": [
    "def fact(i):\n",
    "        if i == 0:\n",
    "            return 1\n",
    "        else:\n",
    "            return i * fact(i - 1)\n",
    "        \n",
    "def expo(x):\n",
    "    f = 1.0\n",
    "    ff = 0.0\n",
    "    for i in range(0, 100):\n",
    "        f = (x**i) / fact(i)\n",
    "        ff += f\n",
    "    return ff\n",
    "\n",
    "x= int(input(\"number dede: \"))\n",
    "y= fact(x)\n",
    "z= expo(x)\n",
    "e= expo(1)\n",
    "print(y)\n",
    "print(e)\n",
    "print(z)"
   ]
  },
  {
   "cell_type": "code",
   "execution_count": 32,
   "metadata": {},
   "outputs": [
    {
     "name": "stdout",
     "output_type": "stream",
     "text": [
      "120\n",
      "148.4131591025766\n"
     ]
    }
   ],
   "source": [
    "import math\n",
    "x= int(input(\"number dede: \"))\n",
    "y= math.factorial(x)\n",
    "z= math.exp(x)\n",
    "print(y)\n",
    "print(z)"
   ]
  },
  {
   "cell_type": "code",
   "execution_count": null,
   "metadata": {},
   "outputs": [],
   "source": [
    "def fib(n):\n",
    "    \n"
   ]
  }
 ],
 "metadata": {
  "kernelspec": {
   "display_name": "Python 3",
   "language": "python",
   "name": "python3"
  },
  "language_info": {
   "codemirror_mode": {
    "name": "ipython",
    "version": 3
   },
   "file_extension": ".py",
   "mimetype": "text/x-python",
   "name": "python",
   "nbconvert_exporter": "python",
   "pygments_lexer": "ipython3",
   "version": "3.11.4"
  }
 },
 "nbformat": 4,
 "nbformat_minor": 2
}
