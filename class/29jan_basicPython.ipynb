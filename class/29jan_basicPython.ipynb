{
 "cells": [
  {
   "cell_type": "code",
   "execution_count": 1,
   "id": "8b90fb7b",
   "metadata": {
    "scrolled": true
   },
   "outputs": [
    {
     "name": "stdout",
     "output_type": "stream",
     "text": [
      "var =  1\n"
     ]
    }
   ],
   "source": [
    "var=1\n",
    "print('var = ',var)"
   ]
  },
  {
   "cell_type": "code",
   "execution_count": 2,
   "id": "7a9a1c92",
   "metadata": {},
   "outputs": [
    {
     "name": "stdout",
     "output_type": "stream",
     "text": [
      "10\t20\t30!"
     ]
    }
   ],
   "source": [
    "a=10\n",
    "b=20\n",
    "c=30\n",
    "print(a,b,c,sep =\"\\t\",end=\"!\")\n"
   ]
  },
  {
   "cell_type": "code",
   "execution_count": 1,
   "id": "93ffd975",
   "metadata": {},
   "outputs": [
    {
     "name": "stdout",
     "output_type": "stream",
     "text": [
      "Please enter your name: Anas\n",
      "Please enter your age: 22\n",
      "Hello Anas! You are 22 years old.\n"
     ]
    }
   ],
   "source": [
    "name = input('Please enter your name: ')\n",
    "\n",
    "age = input('Please enter your age: ')\n",
    "\n",
    "print(f'Hello {name}! You are {age} years old.')\n"
   ]
  },
  {
   "cell_type": "code",
   "execution_count": 4,
   "id": "e8f0c8cf",
   "metadata": {},
   "outputs": [
    {
     "name": "stdout",
     "output_type": "stream",
     "text": [
      "Five plus ten is 15\n"
     ]
    }
   ],
   "source": [
    "a = 5\n",
    "b = 10\n",
    "print(f'Five plus ten is {a + b}')\n"
   ]
  },
  {
   "cell_type": "code",
   "execution_count": 9,
   "id": "a263e658",
   "metadata": {},
   "outputs": [
    {
     "name": "stdout",
     "output_type": "stream",
     "text": [
      "x = 4 , x^2 = 16 \n"
     ]
    }
   ],
   "source": [
    "x=4\n",
    "a= x**2\n",
    "print(f'x = {x} , x^2 = {a} ' )"
   ]
  },
  {
   "cell_type": "code",
   "execution_count": 10,
   "id": "3f967c35",
   "metadata": {},
   "outputs": [],
   "source": [
    "import numpy as np"
   ]
  },
  {
   "cell_type": "code",
   "execution_count": 17,
   "id": "689d25bc",
   "metadata": {},
   "outputs": [],
   "source": [
    "x= np.array([1,2,3,4,5,6,7,8,9,10,11,12,13,14,15])\n"
   ]
  },
  {
   "cell_type": "code",
   "execution_count": 18,
   "id": "6fdcba39",
   "metadata": {},
   "outputs": [],
   "source": [
    "y= x**2"
   ]
  },
  {
   "cell_type": "code",
   "execution_count": 19,
   "id": "7762fca0",
   "metadata": {},
   "outputs": [
    {
     "data": {
      "text/plain": [
       "array([ 1,  2,  3,  4,  5,  6,  7,  8,  9, 10, 11, 12, 13, 14, 15])"
      ]
     },
     "execution_count": 19,
     "metadata": {},
     "output_type": "execute_result"
    }
   ],
   "source": [
    "x"
   ]
  },
  {
   "cell_type": "code",
   "execution_count": 20,
   "id": "9613698b",
   "metadata": {},
   "outputs": [
    {
     "data": {
      "text/plain": [
       "array([  1,   4,   9,  16,  25,  36,  49,  64,  81, 100, 121, 144, 169,\n",
       "       196, 225])"
      ]
     },
     "execution_count": 20,
     "metadata": {},
     "output_type": "execute_result"
    }
   ],
   "source": [
    "y"
   ]
  },
  {
   "cell_type": "code",
   "execution_count": 21,
   "id": "40916763",
   "metadata": {},
   "outputs": [],
   "source": [
    "import pylab as pl\n"
   ]
  },
  {
   "cell_type": "code",
   "execution_count": 22,
   "id": "a057b80b",
   "metadata": {},
   "outputs": [
    {
     "data": {
      "text/plain": [
       "[<matplotlib.lines.Line2D at 0x1d2d1e0b8d0>]"
      ]
     },
     "execution_count": 22,
     "metadata": {},
     "output_type": "execute_result"
    },
    {
     "data": {
      "image/png": "[encoded data removed]",
      "text/plain": [
       "<Figure size 640x480 with 1 Axes>"
      ]
     },
     "metadata": {},
     "output_type": "display_data"
    }
   ],
   "source": [
    "pl.plot(x,y)"
   ]
  },
  {
   "cell_type": "code",
   "execution_count": null,
   "id": "6e0ea3a9",
   "metadata": {},
   "outputs": [],
   "source": []
  }
 ],
 "metadata": {
  "kernelspec": {
   "display_name": "Python 3 (ipykernel)",
   "language": "python",
   "name": "python3"
  },
  "language_info": {
   "codemirror_mode": {
    "name": "ipython",
    "version": 3
   },
   "file_extension": ".py",
   "mimetype": "text/x-python",
   "name": "python",
   "nbconvert_exporter": "python",
   "pygments_lexer": "ipython3",
   "version": "3.11.5"
  }
 },
 "nbformat": 4,
 "nbformat_minor": 5
}
